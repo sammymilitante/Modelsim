{
  "nbformat": 4,
  "nbformat_minor": 0,
  "metadata": {
    "colab": {
      "name": "Act7.ipynb",
      "provenance": [],
      "authorship_tag": "ABX9TyM5ClSeG7xVSxIKfk2toVvj",
      "include_colab_link": true
    },
    "kernelspec": {
      "name": "python3",
      "display_name": "Python 3"
    },
    "language_info": {
      "name": "python"
    }
  },
  "cells": [
    {
      "cell_type": "markdown",
      "metadata": {
        "id": "view-in-github",
        "colab_type": "text"
      },
      "source": [
        "<a href=\"https://colab.research.google.com/github/sammymilitante/Modelsim/blob/master/Act7.ipynb\" target=\"_parent\"><img src=\"https://colab.research.google.com/assets/colab-badge.svg\" alt=\"Open In Colab\"/></a>"
      ]
    },
    {
      "cell_type": "markdown",
      "metadata": {
        "id": "BXppiJiKyWzu"
      },
      "source": [
        "# Drawing Functions"
      ]
    },
    {
      "cell_type": "code",
      "metadata": {
        "id": "91ANK66zx3o2"
      },
      "source": [
        "import cv2\n",
        "import numpy as np\n",
        "from matplotlib import pyplot as plt"
      ],
      "execution_count": null,
      "outputs": []
    },
    {
      "cell_type": "code",
      "metadata": {
        "colab": {
          "base_uri": "https://localhost:8080/",
          "height": 286
        },
        "id": "ZIBWaEcyx-ll",
        "outputId": "7a6bef96-b801-44c3-8943-77df1b70e69f"
      },
      "source": [
        "img2 = np.zeros((512,512,3), np.uint8)\n",
        "img2 = cv2.line(img2,(0,0),(480,480),(255,0,0),9)\n",
        "img2 = cv2.rectangle(img2,(384,0),(410,100),(0,255,0),3)\n",
        "img2 = cv2.circle(img2,(380,100), 160, (0,0,255), -1)\n",
        "font = cv2.FONT_HERSHEY_SIMPLEX\n",
        "cv2.putText(img2,'Isabela State University',(1,250), font, 1,(255,255,255),2,cv2.LINE_AA)\n",
        "plt.imshow(img2)"
      ],
      "execution_count": null,
      "outputs": [
        {
          "output_type": "execute_result",
          "data": {
            "text/plain": [
              "<matplotlib.image.AxesImage at 0x7fbe60243550>"
            ]
          },
          "metadata": {},
          "execution_count": 4
        },
        {
          "output_type": "display_data",
          "data": {
            "image/png": "[encoded data removed]",
            "text/plain": [
              "<Figure size 432x288 with 1 Axes>"
            ]
          },
          "metadata": {
            "needs_background": "light"
          }
        }
      ]
    }
  ]
}