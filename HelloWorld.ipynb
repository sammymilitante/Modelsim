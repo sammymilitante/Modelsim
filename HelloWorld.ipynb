{
  "nbformat": 4,
  "nbformat_minor": 0,
  "metadata": {
    "colab": {
      "name": "HelloWorld.ipynb",
      "provenance": [],
      "authorship_tag": "ABX9TyOTLPuB6M/psVrEnlq1wAGE",
      "include_colab_link": true
    },
    "kernelspec": {
      "name": "python3",
      "display_name": "Python 3"
    },
    "language_info": {
      "name": "python"
    }
  },
  "cells": [
    {
      "cell_type": "markdown",
      "metadata": {
        "id": "view-in-github",
        "colab_type": "text"
      },
      "source": [
        "<a href=\"https://colab.research.google.com/github/sammymilitante/Modelsim/blob/master/HelloWorld.ipynb\" target=\"_parent\"><img src=\"https://colab.research.google.com/assets/colab-badge.svg\" alt=\"Open In Colab\"/></a>"
      ]
    },
    {
      "cell_type": "markdown",
      "metadata": {
        "id": "8kf_RcaZi92Y"
      },
      "source": [
        "# ***Print Hello World***"
      ]
    },
    {
      "cell_type": "code",
      "metadata": {
        "colab": {
          "base_uri": "https://localhost:8080/"
        },
        "id": "0XwwHk-1izHP",
        "outputId": "6b59c414-1c9a-4575-e92a-fa9368442964"
      },
      "source": [
        "print(\"University of Antique\")\n",
        "print(\"Sibalom, Antique, Philippines\")\n",
        "print(\"College of Engineering and Architecture\")\n",
        "print(\"BS in Computer Engineering\")"
      ],
      "execution_count": 2,
      "outputs": [
        {
          "output_type": "stream",
          "name": "stdout",
          "text": [
            "University of Antique\n",
            "Sibalom, Antique, Philippines\n",
            "College of Engineering and Architecture\n",
            "BS in Computer Engineering\n"
          ]
        }
      ]
    },
    {
      "cell_type": "markdown",
      "metadata": {
        "id": "JPqdvrs2jKSw"
      },
      "source": [
        "# New section"
      ]
    }
  ]
}