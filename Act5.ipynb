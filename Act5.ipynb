{
  "nbformat": 4,
  "nbformat_minor": 0,
  "metadata": {
    "colab": {
      "name": "Act5.ipynb",
      "provenance": [],
      "collapsed_sections": [],
      "authorship_tag": "ABX9TyPQqF1FMiHXV7ZI+WObK6uy",
      "include_colab_link": true
    },
    "kernelspec": {
      "name": "python3",
      "display_name": "Python 3"
    },
    "language_info": {
      "name": "python"
    }
  },
  "cells": [
    {
      "cell_type": "markdown",
      "metadata": {
        "id": "view-in-github",
        "colab_type": "text"
      },
      "source": [
        "<a href=\"https://colab.research.google.com/github/sammymilitante/Modelsim/blob/master/Act5.ipynb\" target=\"_parent\"><img src=\"https://colab.research.google.com/assets/colab-badge.svg\" alt=\"Open In Colab\"/></a>"
      ]
    },
    {
      "cell_type": "markdown",
      "metadata": {
        "id": "4gqswfttsSvJ"
      },
      "source": [
        "# **Blurring an image using Pillow**"
      ]
    },
    {
      "cell_type": "code",
      "metadata": {
        "id": "9QJt6qmBsKWK"
      },
      "source": [
        "from PIL import Image\n",
        "from PIL import ImageFilter"
      ],
      "execution_count": 1,
      "outputs": []
    },
    {
      "cell_type": "code",
      "metadata": {
        "id": "7948-urMsZOo"
      },
      "source": [
        "# Open Existing Image\n",
        "OrgImage = Image.open(\"image.jpg\")\n",
        "\n",
        "# Apply Simple Blur Filter\n",
        "blurImage = OrgImage.filter(ImageFilter.BLUR)\n",
        "\n",
        "blurImage.show()\n",
        "blurImage.save(\"output1.jpg\")\n",
        "# Apply BoxBlur Filter\n",
        "boxImage = OrgImage.filter(ImageFilter.BoxBlur(2))\n",
        "boxImage.show()\n",
        "boxImage.save(\"output2.jpg\")\n",
        "# Apply GaussianBlur Filter\n",
        "gaussImage = OrgImage.filter(ImageFilter.GaussianBlur(2))\n",
        "gaussImage.show()\n",
        "gaussImage.save(\"output3.jpg\")"
      ],
      "execution_count": 2,
      "outputs": []
    }
  ]
}