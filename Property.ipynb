{
  "nbformat": 4,
  "nbformat_minor": 0,
  "metadata": {
    "colab": {
      "name": "Property.ipynb",
      "provenance": [],
      "collapsed_sections": [],
      "authorship_tag": "ABX9TyOznSlVuxCsFY3OuMIvVHFq",
      "include_colab_link": true
    },
    "kernelspec": {
      "name": "python3",
      "display_name": "Python 3"
    },
    "language_info": {
      "name": "python"
    }
  },
  "cells": [
    {
      "cell_type": "markdown",
      "metadata": {
        "id": "view-in-github",
        "colab_type": "text"
      },
      "source": [
        "<a href=\"https://colab.research.google.com/github/sammymilitante/Modelsim/blob/master/Property.ipynb\" target=\"_parent\"><img src=\"https://colab.research.google.com/assets/colab-badge.svg\" alt=\"Open In Colab\"/></a>"
      ]
    },
    {
      "cell_type": "markdown",
      "metadata": {
        "id": "hgPiKhaGgV8t"
      },
      "source": [
        "# Extracting Properties of an Image"
      ]
    },
    {
      "cell_type": "code",
      "metadata": {
        "id": "MIY8CQh8eZor"
      },
      "source": [
        "import cv2"
      ],
      "execution_count": 4,
      "outputs": []
    },
    {
      "cell_type": "code",
      "metadata": {
        "id": "VhRztgFlgBIY"
      },
      "source": [
        "img = cv2.imread(\"car.png\")"
      ],
      "execution_count": 5,
      "outputs": []
    },
    {
      "cell_type": "markdown",
      "metadata": {
        "id": "uFla4IBTgHkW"
      },
      "source": [
        "# Functions to find out generic properties of an Image"
      ]
    },
    {
      "cell_type": "code",
      "metadata": {
        "colab": {
          "base_uri": "https://localhost:8080/"
        },
        "id": "Tp_W4Qr8gEH-",
        "outputId": "1ad9ef52-6496-444d-85c4-c8da58da4149"
      },
      "source": [
        "print(\"Image Properties\") \n",
        "print(\"Number of Pixels: \" + str(img.size)) \n",
        "print(\"Shape/Dimensions: \" + str(img.shape))"
      ],
      "execution_count": 6,
      "outputs": [
        {
          "output_type": "stream",
          "name": "stdout",
          "text": [
            "Image Properties\n",
            "Number of Pixels: 1555200\n",
            "Shape/Dimensions: (540, 960, 3)\n"
          ]
        }
      ]
    }
  ]
}