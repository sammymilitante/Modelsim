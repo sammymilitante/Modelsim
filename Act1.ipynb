{
  "nbformat": 4,
  "nbformat_minor": 0,
  "metadata": {
    "colab": {
      "name": "Untitled0.ipynb",
      "provenance": [],
      "authorship_tag": "ABX9TyMQ64wuaS/Bp2gTANHNbtS3",
      "include_colab_link": true
    },
    "kernelspec": {
      "name": "python3",
      "display_name": "Python 3"
    },
    "language_info": {
      "name": "python"
    }
  },
  "cells": [
    {
      "cell_type": "markdown",
      "metadata": {
        "id": "view-in-github",
        "colab_type": "text"
      },
      "source": [
        "<a href=\"https://colab.research.google.com/github/sammymilitante/Modelsim/blob/master/Act1.ipynb\" target=\"_parent\"><img src=\"https://colab.research.google.com/assets/colab-badge.svg\" alt=\"Open In Colab\"/></a>"
      ]
    },
    {
      "cell_type": "code",
      "metadata": {
        "id": "aCothfw7Yfmw"
      },
      "source": [
        "import cv2 "
      ],
      "execution_count": 1,
      "outputs": []
    },
    {
      "cell_type": "code",
      "metadata": {
        "id": "97y-UJDsYxFr"
      },
      "source": [
        "img = cv2.imread(\"image.jpg\") "
      ],
      "execution_count": 2,
      "outputs": []
    },
    {
      "cell_type": "code",
      "metadata": {
        "colab": {
          "base_uri": "https://localhost:8080/"
        },
        "id": "gKVQP1BJYx1C",
        "outputId": "6dccfdd7-b4c4-4126-e700-ebf4b41a5417"
      },
      "source": [
        "print(\"Image Properties\") \n",
        "print(\"Number of Pixels: \" + str(img.size)) \n",
        "print(\"Shape/Dimensions: \" + str(img.shape))"
      ],
      "execution_count": 3,
      "outputs": [
        {
          "output_type": "stream",
          "name": "stdout",
          "text": [
            "Image Properties\n",
            "Number of Pixels: 338724\n",
            "Shape/Dimensions: (388, 291, 3)\n"
          ]
        }
      ]
    }
  ]
}