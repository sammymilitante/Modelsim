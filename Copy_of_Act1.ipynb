{
  "nbformat": 4,
  "nbformat_minor": 0,
  "metadata": {
    "colab": {
      "name": "Copy of Act1.ipynb",
      "provenance": [],
      "collapsed_sections": [],
      "authorship_tag": "ABX9TyNMq0bz8+Duge1c/LLodLd9",
      "include_colab_link": true
    },
    "kernelspec": {
      "name": "python3",
      "display_name": "Python 3"
    },
    "language_info": {
      "name": "python"
    }
  },
  "cells": [
    {
      "cell_type": "markdown",
      "metadata": {
        "id": "view-in-github",
        "colab_type": "text"
      },
      "source": [
        "<a href=\"https://colab.research.google.com/github/sammymilitante/Modelsim/blob/master/Copy_of_Act1.ipynb\" target=\"_parent\"><img src=\"https://colab.research.google.com/assets/colab-badge.svg\" alt=\"Open In Colab\"/></a>"
      ]
    },
    {
      "cell_type": "markdown",
      "metadata": {
        "id": "hgPiKhaGgV8t"
      },
      "source": [
        "# Extracting Properties of an Image"
      ]
    },
    {
      "cell_type": "code",
      "metadata": {
        "id": "MIY8CQh8eZor"
      },
      "source": [
        "import cv2"
      ],
      "execution_count": null,
      "outputs": []
    },
    {
      "cell_type": "code",
      "metadata": {
        "id": "VhRztgFlgBIY"
      },
      "source": [
        "img = cv2.imread(\"pica.jpg\")"
      ],
      "execution_count": null,
      "outputs": []
    },
    {
      "cell_type": "markdown",
      "metadata": {
        "id": "uFla4IBTgHkW"
      },
      "source": [
        "# Functions to find out generic properties of an Image"
      ]
    },
    {
      "cell_type": "code",
      "metadata": {
        "colab": {
          "base_uri": "https://localhost:8080/"
        },
        "id": "Tp_W4Qr8gEH-",
        "outputId": "c871824f-8926-4975-b42f-126fe09ea696"
      },
      "source": [
        "print(\"Image Properties\") \n",
        "print(\"Number of Pixels: \" + str(img.size)) \n",
        "print(\"Shape/Dimensions: \" + str(img.shape))"
      ],
      "execution_count": null,
      "outputs": [
        {
          "output_type": "stream",
          "name": "stdout",
          "text": [
            "Image Properties\n",
            "Number of Pixels: 140616\n",
            "Shape/Dimensions: (216, 217, 3)\n"
          ]
        }
      ]
    }
  ]
}